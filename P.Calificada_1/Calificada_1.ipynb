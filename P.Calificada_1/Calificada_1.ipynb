{
 "cells": [
  {
   "cell_type": "markdown",
   "id": "4a3bf0a9-39da-4699-8e6e-19e7f3c5bc65",
   "metadata": {},
   "source": [
    "# Lista de ejercicios\n",
    "Introducción a Machine Learning para CCSS\n",
    "\n",
    "Integrantes: \n",
    "\n",
    "13 de octubre, 2024"
   ]
  },
  {
   "cell_type": "markdown",
   "id": "44e66059-a4f4-4cd6-94fc-2e750f63f51a",
   "metadata": {
    "jp-MarkdownHeadingCollapsed": true
   },
   "source": [
    "## Instrucciones"
   ]
  },
  {
   "cell_type": "markdown",
   "id": "b52420ee-0378-401b-b65d-12d6e2a4f8b0",
   "metadata": {},
   "source": [
    "1. Temas abordados: Esta lista de ejercicios se enfoca en los siguientes temas: Gradient\n",
    "Descent, Trade off Bias Variance & Cross-Validation.\n",
    "2. Formación de grupos: Se permite la formación de grupos de hasta 4 integrantes. La\n",
    "composición de los grupos se mantendrá constante para las listas de ejercicios 2 y 3.\n",
    "3. Puntuaci ́on de ejercicios: La lista contiene 4 ejercicios. Cada ejercicio vale 5 puntos.\n",
    "4. Formato de entrega: La resoluci ́on de los ejercicios debe presentarse en un archivo jupyter-\n",
    "notebook con todas las celdas ejecutadas.\n",
    "5. Fecha límite de entrega: La fecha límite para la entrega es el Domingo 20 de octubre a\n",
    "las 11:59 pm. Un representante del equipo debe subir su solucionario a la actividad corre-\n",
    "spondiente en la plataforma Canvas. Los nombres y códigos de todos los participantes deben\n",
    "ser incluidos en el solucionario."
   ]
  },
  {
   "cell_type": "markdown",
   "id": "0a306369-573f-4d9f-b238-daa8667d5a8f",
   "metadata": {
    "jp-MarkdownHeadingCollapsed": true
   },
   "source": [
    "## Pregunta 1"
   ]
  },
  {
   "cell_type": "markdown",
   "id": "47e7c05f-5961-428f-ac50-a811349d9952",
   "metadata": {},
   "source": [
    "En este ejercicio, estimará los coeficientes de un modelo de regresión lineal utilizando el conjunto\n",
    "de datos Boston. Tenga en cuenta que la variable objetivo es ‘crim‘, que representa la tasa de\n",
    "criminalidad per cápita por ciudad. Considere los siguientes pasos:\n",
    "\n",
    "1. Ajuste un modelo de M ́ınimos Cuadrados Ordinarios (OLS) y estime los coeficientes mediante\n",
    "el atributo coef . Hint: considere la biblioteca Scikit-Learn.\n",
    "2. Estime manualmente los coeficientes OLS y comparelos con los resultados obtenidos en el paso\n",
    "anterior. Considere que los coeficientes se pueden estimar minimizando la Suma Residual de\n",
    "Cuadrados (RSS). Hint: la Suma Residual de Cuadrados se define como:\n",
    "\n",
    "$$\n",
    "RSS = (y − Xβ)′ (y − Xβ)\n",
    "$$\n",
    "\n",
    "3. Estime los coeficientes OLS mediante el algoritmo de optimizaci ́on de Descenso de Gradi-\n",
    "ente. Experimente con distintos valores para la Tasa de Aprendizaje (Learning Rate) y el\n",
    "Umbral de Convergencia (Convergence Threshold ). Compare los coeficientes obtenidos con\n",
    "aquellos obtenidos en los pasos a) y b). ¿Qu ́e valores de Tasa de Aprendizaje y Umbral de\n",
    "Convergencia proporcionan resultados m ́as cercanos a los obtenidos anteriormente?"
   ]
  },
  {
   "cell_type": "markdown",
   "id": "a57e4762-bbab-4dff-8ee1-3fbce099a9cb",
   "metadata": {
    "jp-MarkdownHeadingCollapsed": true
   },
   "source": [
    "## Pregunta 2\n"
   ]
  },
  {
   "cell_type": "markdown",
   "id": "c8e0dbae-81c5-4412-a18d-cc012c8d3cd8",
   "metadata": {},
   "source": [
    "El objetivo de este ejercicio es ilustrar cómo el trade-off entre sesgo y varianza evoluciona con la\n",
    "creciente complejidad de los modelos polin ́omicos. Para este propósito, utilice el conjunto de datos\n",
    "Portafolio. Considere los siguientes pasos:\n",
    "1) División del conjunto de datos: Separe los datos en un conjunto de entrenamiento y otro\n",
    "de prueba, asignando el 20% de los datos al conjunto de prueba.\n",
    "1\n",
    "2) Ajuste de modelos polin ́omicos: Implemente un bucle para ajustar modelos de regresi ́on\n",
    "polinomial desde grado 1 hasta grado 8. Hint: considere las funciones PolynomialFeatures\n",
    "y LinearRegression de Scikit-Learn.\n",
    "3) Descomposici ́on sesgo-varianza: Dentro del mismo bucle, calcule la descomposición de\n",
    "sesgo-varianza para cada modelo, tanto en el conjunto de entrenamiento como en el de prueba.\n",
    "Hint: considere la librer ́ıa mlxtend.\n",
    "4) Visualización: Grafique cómo sesgo, varianza y error cuadr ́atico medio (MSE) varían con la\n",
    "complejidad del modelo (grados polinómicos) para ambos conjuntos, entrenamiento y prueba."
   ]
  },
  {
   "cell_type": "markdown",
   "id": "28e41005-f56b-455f-9913-a2d0bfdc9be9",
   "metadata": {
    "jp-MarkdownHeadingCollapsed": true
   },
   "source": [
    "## Pregunta 3\n"
   ]
  },
  {
   "cell_type": "markdown",
   "id": "8baf4397-5569-48be-9b76-f978e69d7463",
   "metadata": {},
   "source": [
    "Sobre k-fold Cross-Validation:\n",
    "1) Explique cómo se implementa el enfoque k-fold Cross-Validation.\n",
    "2) Detalle cuáles son las ventajas y desventajas del enfoque k-fold Cross-Validation con respecto\n",
    "a:\n",
    "\n",
    "   I. El enfoque del Conjunto de Validación.\n",
    "   \n",
    "    II. El enfoque de Validaci ́on Cruzada Dejando Uno Afuera (LOOCV)"
   ]
  },
  {
   "cell_type": "markdown",
   "id": "027e6e9e-ce7d-46ef-bee2-94222d03496a",
   "metadata": {
    "jp-MarkdownHeadingCollapsed": true
   },
   "source": [
    "## Pregunta 4\n"
   ]
  },
  {
   "cell_type": "markdown",
   "id": "be596d6d-4ac0-4161-aaf1-e3e5d0fa5b27",
   "metadata": {},
   "source": [
    "A continuación implementará Cross-Validation para un conjunto de datos simulado. Considere los\n",
    "siguientes pasos:\n",
    "1) Genere el conjunto de datos simulado de la siguiente manera:\n",
    "\n",
    "    rng = np.random.default_rng(1)\n",
    "\n",
    "    x = rng.normal(size=100)\n",
    "\n",
    "    y = x - 2 * x^2 + rng.normal(size=100)\n",
    "\n",
    "En este conjunto de datos, ¿cuál es n (número de observaciones) y cuál es p (número de variables predictoras)? Escriba el modelo utilizado para generar los datos en forma de ecuación.\n",
    "\n",
    "2) Establezca una semilla aleatoria y luego calcule los errores LOOCV que resultan de ajustar\n",
    "los siguientes cuatro modelos polinomiales usando m ́ınimos cuadrados:\n",
    "\n",
    "   i.$$ Y = β_0 + β_1X + ε $$\n",
    "\n",
    "   ii. $$ Y = β_0 + β_1X + β_2X_2 + ε $$\n",
    "\n",
    "   iii. $$ Y = β_0 + β_1X + β_2X_2 + β_3X_3 + ε $$\n",
    "\n",
    "   iv. $$ Y = β0 + β_1X + β_2X_2 + β_3X_3 + β_4X_4 + ε $$\n",
    "\n",
    "4) Repita el punto c) usando otra semilla aleatoria e informe sus resultados. ¿Son sus resultados\n",
    "iguales a los que obtuvo en c)? ¿Por qué?\n",
    "5) ¿Cu ́al de los modelos en c) tuvo el error LOOCV más pequeño? ¿Esperaba ese resultado?\n",
    "Explique su respuesta"
   ]
  }
 ],
 "metadata": {
  "kernelspec": {
   "display_name": "Python 3 (ipykernel)",
   "language": "python",
   "name": "python3"
  },
  "language_info": {
   "codemirror_mode": {
    "name": "ipython",
    "version": 3
   },
   "file_extension": ".py",
   "mimetype": "text/x-python",
   "name": "python",
   "nbconvert_exporter": "python",
   "pygments_lexer": "ipython3",
   "version": "3.11.5"
  }
 },
 "nbformat": 4,
 "nbformat_minor": 5
}
